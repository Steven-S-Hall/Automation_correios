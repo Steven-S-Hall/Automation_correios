{
 "cells": [
  {
   "cell_type": "markdown",
   "metadata": {},
   "source": [
    "# Correios automation\n",
    "\n",
    "Correios are the main mailling institution in Brazil, and this script was made to check if the packages ordered were in the route to be delivered. This is specially useful so you can stay home and pay atention to the door to see when it wil be delivered."
   ]
  },
  {
   "cell_type": "code",
   "execution_count": 48,
   "metadata": {},
   "outputs": [],
   "source": [
    "from selenium import webdriver\n",
    "from selenium.webdriver.common.by import By\n",
    "import time \n",
    "import unicodedata\n",
    "import requests\n",
    "from selenium.common.exceptions import NoSuchElementException\n",
    "#import schedule"
   ]
  },
  {
   "cell_type": "code",
   "execution_count": 2,
   "metadata": {},
   "outputs": [],
   "source": [
    "url = 'https://www2.correios.com.br/sistemas/rastreamento/default.cfm'\n",
    "browser = webdriver.Firefox(executable_path=r'C:\\Users\\steve\\geckodriver.exe', log_path=r'C:\\Users\\steve\\geckodriver.log')\n",
    "browser.get(url)\n",
    "time.sleep(5)"
   ]
  },
  {
   "cell_type": "code",
   "execution_count": 51,
   "metadata": {
    "tags": []
   },
   "outputs": [],
   "source": [
    "def pacote(id):\n",
    "    inputs = browser.find_elements(By.ID,'objetos')\n",
    "    browser.find_element(By.ID,'objetos').send_keys(id)\n",
    "    browser.find_element(By.ID,'btnPesq').click()\n",
    "   \n",
    "    try:\n",
    "        envio = browser.find_element(By.ID,'EventoPostagem').text\n",
    "        #print(envio)\n",
    "        status = browser.find_element(By.ID,'UltimoEvento').text\n",
    "        print(status)\n",
    "        return(status)\n",
    "    except NoSuchElementException:\n",
    "        return \" \"\n",
    "        pass\n",
    "    "
   ]
  },
  {
   "cell_type": "markdown",
   "metadata": {},
   "source": [
    "The try-except was done because some times the package isn't identified so it will just ignore and proceed to the next package in the list."
   ]
  },
  {
   "cell_type": "code",
   "execution_count": 44,
   "metadata": {},
   "outputs": [],
   "source": [
    "def alert(stats):\n",
    "    if  \"saiu\" in stats.split():\n",
    "        print(1)\n",
    "\n",
    "    else:\n",
    "        print(0)\n",
    "    browser.back()\n",
    "    browser.find_element(By.ID,'objetos').clear()"
   ]
  },
  {
   "cell_type": "markdown",
   "metadata": {},
   "source": [
    "In the above code I'm looking for the word \"saiu\", which means left so it means the package is going to be delivered. It goes back to the page before and looks for the package in the list."
   ]
  },
  {
   "cell_type": "code",
   "execution_count": 56,
   "metadata": {
    "tags": []
   },
   "outputs": [
    {
     "name": "stdout",
     "output_type": "stream",
     "text": [
      "0\n"
     ]
    }
   ],
   "source": [
    "s = pacote(\"LP00404152753010\")\n",
    "alert(s)\n"
   ]
  },
  {
   "cell_type": "markdown",
   "metadata": {},
   "source": [
    "Test with one package"
   ]
  },
  {
   "cell_type": "code",
   "execution_count": 55,
   "metadata": {
    "tags": []
   },
   "outputs": [
    {
     "name": "stdout",
     "output_type": "stream",
     "text": [
      "Objeto saiu para entrega ao destinatário\n",
      "22/09/2020\n",
      "1\n",
      "Objeto encaminhado\n",
      "16/09/2020\n",
      "0\n",
      "0\n",
      "0\n",
      "0\n",
      "0\n"
     ]
    }
   ],
   "source": [
    "entregas = [\n",
    "\"PX704334895BR\",\n",
    "\"LB067047319HK\",\n",
    "\"LP00404152753010\",\n",
    "\"LP00404014839404\",\n",
    "\"LP00405185276194\",\n",
    "\"LP00405126414456\"]\n",
    "for i in entregas:\n",
    "    s = pacote(i)\n",
    "    alert(s)"
   ]
  },
  {
   "cell_type": "markdown",
   "metadata": {},
   "source": [
    "Out of the packages only the first had left to be delivered, so it printeed 1 and the message. For the others it just returned 0 because none of the packages were on their way."
   ]
  },
  {
   "cell_type": "code",
   "execution_count": null,
   "metadata": {},
   "outputs": [],
   "source": []
  }
 ],
 "metadata": {
  "kernelspec": {
   "display_name": "Python 3",
   "language": "python",
   "name": "python3"
  },
  "language_info": {
   "codemirror_mode": {
    "name": "ipython",
    "version": 3
   },
   "file_extension": ".py",
   "mimetype": "text/x-python",
   "name": "python",
   "nbconvert_exporter": "python",
   "pygments_lexer": "ipython3",
   "version": "3.8.3"
  }
 },
 "nbformat": 4,
 "nbformat_minor": 2
}
